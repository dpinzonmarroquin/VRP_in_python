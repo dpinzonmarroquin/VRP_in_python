{
 "cells": [
  {
   "cell_type": "markdown",
   "metadata": {},
   "source": [
    "# Import Packages"
   ]
  },
  {
   "cell_type": "code",
   "execution_count": 1,
   "metadata": {},
   "outputs": [],
   "source": [
    "import pandas as pd\n",
    "import pulp\n",
    "from sklearn.metrics.pairwise import manhattan_distances\n",
    "import matplotlib.pyplot as plt"
   ]
  },
  {
   "cell_type": "markdown",
   "metadata": {},
   "source": [
    "# Import data and define main parameters"
   ]
  },
  {
   "cell_type": "code",
   "execution_count": 2,
   "metadata": {},
   "outputs": [],
   "source": [
    "locations = pd.read_csv('locations.csv')\n",
    "locations_list = locations['Location'].unique()\n",
    "n_locations = len(locations_list)\n",
    "destinations_list = locations_list[1:]\n",
    "locations = locations.set_index(['Location'])"
   ]
  },
  {
   "cell_type": "code",
   "execution_count": 3,
   "metadata": {},
   "outputs": [
    {
     "data": {
      "text/html": [
       "<div>\n",
       "<style scoped>\n",
       "    .dataframe tbody tr th:only-of-type {\n",
       "        vertical-align: middle;\n",
       "    }\n",
       "\n",
       "    .dataframe tbody tr th {\n",
       "        vertical-align: top;\n",
       "    }\n",
       "\n",
       "    .dataframe thead th {\n",
       "        text-align: right;\n",
       "    }\n",
       "</style>\n",
       "<table border=\"1\" class=\"dataframe\">\n",
       "  <thead>\n",
       "    <tr style=\"text-align: right;\">\n",
       "      <th></th>\n",
       "      <th>X Axis</th>\n",
       "      <th>Y Axis</th>\n",
       "    </tr>\n",
       "    <tr>\n",
       "      <th>Location</th>\n",
       "      <th></th>\n",
       "      <th></th>\n",
       "    </tr>\n",
       "  </thead>\n",
       "  <tbody>\n",
       "    <tr>\n",
       "      <th>0</th>\n",
       "      <td>456</td>\n",
       "      <td>320</td>\n",
       "    </tr>\n",
       "    <tr>\n",
       "      <th>1</th>\n",
       "      <td>228</td>\n",
       "      <td>0</td>\n",
       "    </tr>\n",
       "    <tr>\n",
       "      <th>2</th>\n",
       "      <td>912</td>\n",
       "      <td>0</td>\n",
       "    </tr>\n",
       "    <tr>\n",
       "      <th>3</th>\n",
       "      <td>0</td>\n",
       "      <td>80</td>\n",
       "    </tr>\n",
       "    <tr>\n",
       "      <th>4</th>\n",
       "      <td>114</td>\n",
       "      <td>80</td>\n",
       "    </tr>\n",
       "  </tbody>\n",
       "</table>\n",
       "</div>"
      ],
      "text/plain": [
       "          X Axis  Y Axis\n",
       "Location                \n",
       "0            456     320\n",
       "1            228       0\n",
       "2            912       0\n",
       "3              0      80\n",
       "4            114      80"
      ]
     },
     "execution_count": 3,
     "metadata": {},
     "output_type": "execute_result"
    }
   ],
   "source": [
    "locations.head()"
   ]
  },
  {
   "cell_type": "code",
   "execution_count": 4,
   "metadata": {},
   "outputs": [],
   "source": [
    "distances = pd.DataFrame(manhattan_distances(locations.values, locations.values, sum_over_features=True))"
   ]
  },
  {
   "cell_type": "code",
   "execution_count": 5,
   "metadata": {},
   "outputs": [],
   "source": [
    "vehicles = [1,2,3]\n",
    "n_vehicles = len(vehicles)"
   ]
  },
  {
   "cell_type": "markdown",
   "metadata": {},
   "source": [
    "# Write the problem in PuLP"
   ]
  },
  {
   "cell_type": "markdown",
   "metadata": {},
   "source": [
    "## Definition of the variables"
   ]
  },
  {
   "cell_type": "code",
   "execution_count": 6,
   "metadata": {},
   "outputs": [],
   "source": [
    "\n",
    "x = pulp.LpVariable.dicts(\"x\",\n",
    "                          ((i,j,k) for i in locations_list for j in locations_list for k in vehicles),\n",
    "                          cat='Binary')\n",
    "\n",
    "u = pulp.LpVariable.dicts(\"u\",((i) for i in locations_list),\n",
    "                          lowBound=0)\n",
    "\n"
   ]
  },
  {
   "cell_type": "markdown",
   "metadata": {},
   "source": [
    "## Type and name of the problem"
   ]
  },
  {
   "cell_type": "code",
   "execution_count": 7,
   "metadata": {},
   "outputs": [],
   "source": [
    "model = pulp.LpProblem(\"Vehicle routing problem\", pulp.LpMinimize)"
   ]
  },
  {
   "cell_type": "markdown",
   "metadata": {},
   "source": [
    "## Definition of the Objective Function"
   ]
  },
  {
   "cell_type": "code",
   "execution_count": 8,
   "metadata": {},
   "outputs": [],
   "source": [
    "model += pulp.lpSum([x[(i,j,k)]*distances.loc[i,j] for i in locations_list for j in locations_list for k in vehicles])"
   ]
  },
  {
   "cell_type": "markdown",
   "metadata": {},
   "source": [
    "## Definition of constraints"
   ]
  },
  {
   "cell_type": "code",
   "execution_count": null,
   "metadata": {},
   "outputs": [],
   "source": [
    "#1 - #2 destinations are visited only once\n",
    "\n",
    "for i in destinations_list:\n",
    "    model += pulp.lpSum(x[(i,j,k)] for j in locations_list for k in vehicles) == 1\n",
    "\n",
    "for j in destinations_list:\n",
    "    model += pulp.lpSum(x[(i, j, k)] for i in locations_list for k in vehicles) == 1\n",
    "\n",
    "#3 the number of vehicles that leave the origin is the same than the number that arrives\n",
    "\n",
    "model += pulp.lpSum(x[(0,j,k)] for j in locations_list for k in vehicles) == n_vehicles\n",
    "\n",
    "model += pulp.lpSum(x[(i,0,k)] for i in locations_list for k in vehicles) == n_vehicles\n",
    "\n",
    "#4 no subtours allowed\n",
    "\n",
    "for k in vehicles:\n",
    "    for i in locations_list:\n",
    "        for j in destinations_list:\n",
    "            model += u[i]-u[j]+n_locations*x[(i,j,k)] <= n_locations-1\n",
    "\n",
    "\n",
    "#each destination is visited only once\n",
    "\n",
    "for k in vehicles:\n",
    "    for j in destinations_list:\n",
    "        model += pulp.lpSum(x[(i,j,k)] for i in locations_list) == pulp.lpSum(x[(j,i,k)] for i in locations_list)\n",
    "\n",
    "\n",
    "\n",
    "# Set a capacity of maximum number of nodes that can be visited by a vehicle\n",
    "capacity = 7\n",
    "for k in vehicles:\n",
    "    model += pulp.lpSum(x[(i,j,k)] for i in locations_list for j in destinations_list) <= capacity"
   ]
  },
  {
   "cell_type": "markdown",
   "metadata": {},
   "source": [
    "## Solve the model"
   ]
  },
  {
   "cell_type": "code",
   "execution_count": null,
   "metadata": {},
   "outputs": [],
   "source": [
    "#model.solve()\n",
    "model.solve(pulp.GLPK_CMD(options=['--mipgap', '0.01']))\n",
    "#model.solve(solver=pulp.GUROBI(MIPGap = 0.01))"
   ]
  },
  {
   "cell_type": "code",
   "execution_count": null,
   "metadata": {},
   "outputs": [],
   "source": [
    "print(pulp.LpStatus[model.status])"
   ]
  },
  {
   "cell_type": "code",
   "execution_count": null,
   "metadata": {},
   "outputs": [],
   "source": [
    "# Print our objective function value (Total Distance)\n",
    "print(\"The value of the objective function is: \"+ str(pulp.value(model.objective)))"
   ]
  },
  {
   "cell_type": "markdown",
   "metadata": {},
   "source": [
    "# Wrangle the solution"
   ]
  },
  {
   "cell_type": "code",
   "execution_count": null,
   "metadata": {},
   "outputs": [],
   "source": [
    "output_x=[]\n",
    "\n",
    "for i,j,k in x:\n",
    "    x_output = {\n",
    "        'vehicle':k,\n",
    "        'start': i,\n",
    "        'end':j,\n",
    "        'status':x[(i,j,k)].varValue\n",
    "    }\n",
    "    output_x.append(x_output)"
   ]
  },
  {
   "cell_type": "code",
   "execution_count": null,
   "metadata": {},
   "outputs": [],
   "source": [
    "x_output_df = pd.DataFrame(output_x)"
   ]
  },
  {
   "cell_type": "code",
   "execution_count": null,
   "metadata": {},
   "outputs": [],
   "source": [
    "x_output_df = x_output_df[['vehicle','start','end','status']]"
   ]
  },
  {
   "cell_type": "code",
   "execution_count": null,
   "metadata": {},
   "outputs": [],
   "source": [
    "x_output_df = x_output_df.set_index(['vehicle','start','end'])"
   ]
  },
  {
   "cell_type": "code",
   "execution_count": null,
   "metadata": {},
   "outputs": [],
   "source": [
    "x_output_df = x_output_df.sort_index()"
   ]
  },
  {
   "cell_type": "code",
   "execution_count": null,
   "metadata": {},
   "outputs": [],
   "source": [
    "x_output_df.head()"
   ]
  },
  {
   "cell_type": "code",
   "execution_count": null,
   "metadata": {},
   "outputs": [],
   "source": [
    "x_active_output = x_output_df[x_output_df['status'] == 1]"
   ]
  },
  {
   "cell_type": "code",
   "execution_count": null,
   "metadata": {},
   "outputs": [],
   "source": [
    "x_active_origins = x_active_output.reset_index()\n",
    "x_active_origins = x_active_origins.set_index(['vehicle','start'])"
   ]
  },
  {
   "cell_type": "code",
   "execution_count": null,
   "metadata": {},
   "outputs": [],
   "source": [
    "routes={}\n",
    "\n",
    "\n",
    "for k in vehicles:\n",
    "    origin = 0\n",
    "    route = []\n",
    "    route.append(origin)\n",
    "    while True:\n",
    "        destination = int(x_active_origins.loc[(k, origin), 'end'])\n",
    "        route.append(destination)\n",
    "        origin = destination\n",
    "        if destination == 0:\n",
    "            break\n",
    "    routes[k] = route\n"
   ]
  },
  {
   "cell_type": "markdown",
   "metadata": {},
   "source": [
    "# List the routes for each vehicle"
   ]
  },
  {
   "cell_type": "code",
   "execution_count": null,
   "metadata": {},
   "outputs": [],
   "source": [
    "routes"
   ]
  },
  {
   "cell_type": "markdown",
   "metadata": {},
   "source": [
    "# Visualize the solution"
   ]
  },
  {
   "cell_type": "code",
   "execution_count": null,
   "metadata": {},
   "outputs": [],
   "source": [
    "for k in vehicles:\n",
    "    selected_route = locations.loc[routes[k],:]\n",
    "    x_values = list(selected_route['X Axis'])\n",
    "    y_values = list(selected_route['Y Axis'])\n",
    "    plt.plot(x_values,y_values,'.',linestyle='dashed')\n",
    "\n",
    "x_coordinates = list(locations['X Axis'])\n",
    "y_coordinates = list(locations['Y Axis'])\n",
    "\n",
    "for i in locations_list:\n",
    "    label = locations_list[i]\n",
    "    coord = (x_coordinates[i],y_coordinates[i])\n",
    "\n",
    "    plt.annotate(label,\n",
    "                 coord,\n",
    "                 textcoords=\"offset points\",\n",
    "                 xytext=(0,10),\n",
    "                 ha='center')\n",
    "\n",
    "plt.grid(b=None,which='both',axis='both')\n",
    "plt.legend(vehicles, loc='upper left')\n",
    "\n",
    "plt.show()"
   ]
  }
 ],
 "metadata": {
  "kernelspec": {
   "display_name": "Python 3",
   "language": "python",
   "name": "python3"
  },
  "language_info": {
   "codemirror_mode": {
    "name": "ipython",
    "version": 3
   },
   "file_extension": ".py",
   "mimetype": "text/x-python",
   "name": "python",
   "nbconvert_exporter": "python",
   "pygments_lexer": "ipython3",
   "version": "3.6.7"
  },
  "toc": {
   "base_numbering": 1,
   "nav_menu": {},
   "number_sections": true,
   "sideBar": true,
   "skip_h1_title": false,
   "title_cell": "Table of Contents",
   "title_sidebar": "Contents",
   "toc_cell": false,
   "toc_position": {},
   "toc_section_display": true,
   "toc_window_display": false
  }
 },
 "nbformat": 4,
 "nbformat_minor": 2
}
